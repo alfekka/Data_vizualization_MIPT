{
 "cells": [
  {
   "cell_type": "markdown",
   "metadata": {},
   "source": [
    "Рванова Людмила, М05-016а"
   ]
  },
  {
   "cell_type": "code",
   "execution_count": 2,
   "metadata": {},
   "outputs": [
    {
     "name": "stdout",
     "output_type": "stream",
     "text": [
      "Requirement already satisfied: matplotlib in ./anaconda3/envs/my-env/lib/python3.6/site-packages (3.1.1)\n",
      "Requirement already satisfied: cycler>=0.10 in ./anaconda3/envs/my-env/lib/python3.6/site-packages (from matplotlib) (0.10.0)\n",
      "Requirement already satisfied: pyparsing!=2.0.4,!=2.1.2,!=2.1.6,>=2.0.1 in ./anaconda3/envs/my-env/lib/python3.6/site-packages (from matplotlib) (2.4.2)\n",
      "Requirement already satisfied: python-dateutil>=2.1 in ./anaconda3/envs/my-env/lib/python3.6/site-packages (from matplotlib) (2.8.0)\n",
      "Requirement already satisfied: numpy>=1.11 in ./anaconda3/envs/my-env/lib/python3.6/site-packages (from matplotlib) (1.19.4)\n",
      "Requirement already satisfied: kiwisolver>=1.0.1 in ./anaconda3/envs/my-env/lib/python3.6/site-packages (from matplotlib) (1.1.0)\n",
      "Requirement already satisfied: six in ./anaconda3/envs/my-env/lib/python3.6/site-packages (from cycler>=0.10->matplotlib) (1.15.0)\n",
      "Requirement already satisfied: setuptools in ./anaconda3/envs/my-env/lib/python3.6/site-packages (from kiwisolver>=1.0.1->matplotlib) (41.4.0)\n",
      "Collecting python-sat\n",
      "  Downloading python_sat-0.1.7.dev2-cp36-cp36m-manylinux2010_x86_64.whl (1.8 MB)\n",
      "\u001b[K     |████████████████████████████████| 1.8 MB 997 kB/s eta 0:00:01\n",
      "\u001b[?25hInstalling collected packages: python-sat\n",
      "Successfully installed python-sat-0.1.7.dev2\n",
      "\u001b[33mWARNING: You are using pip version 20.3.3; however, version 21.0.1 is available.\n",
      "You should consider upgrading via the '/home/mila/anaconda3/envs/my-env/bin/python -m pip install --upgrade pip' command.\u001b[0m\n"
     ]
    }
   ],
   "source": [
    "!pip install matplotlib python-sat"
   ]
  },
  {
   "cell_type": "code",
   "execution_count": 194,
   "metadata": {},
   "outputs": [],
   "source": [
    "import re\n",
    "from pysat.solvers import Solver #используемый солвер\n",
    "s = Solver(name='mc')\n",
    "from matplotlib import patches\n",
    "from matplotlib import pyplot as plt\n",
    "from itertools import chain"
   ]
  },
  {
   "cell_type": "code",
   "execution_count": 85,
   "metadata": {},
   "outputs": [],
   "source": [
    "def get_numbers(xy):\n",
    "    x, y = map(int, xy.split(','))\n",
    "    \n",
    "    return x, y\n",
    "\n",
    "def reading(file):\n",
    "    points = []\n",
    "    uid = 1\n",
    "    for line in file.split('\\n'):\n",
    "        start, size, positions = line.split('\\t')\n",
    "        \n",
    "        xs, ys = get_numbers(start)\n",
    "        curr_point = {(xs, ys): []}\n",
    "        w, h = get_numbers(size)\n",
    "        \n",
    "        for position in positions.split(' '):\n",
    "            x_pos, y_pos = get_numbers(position)\n",
    "            \n",
    "            rect_xs = xs - x_pos\n",
    "            rect_ys = ys - y_pos\n",
    "            \n",
    "            if rect_xs < 0:\n",
    "                continue\n",
    "            elif rect_ys < 0:\n",
    "                continue\n",
    "            elif rect_xs + w > 500:\n",
    "                continue\n",
    "            elif rect_ys + h > 500:\n",
    "                continue\n",
    "                \n",
    "            curr_rect = (rect_xs, rect_ys, w, h, uid)\n",
    "            curr_point[(xs, ys)].append(curr_rect)\n",
    "            \n",
    "            uid += 1\n",
    "        points.append(curr_point)\n",
    "    return points\n",
    "\n",
    "def contains(rect, x, y):\n",
    "    rect_xs, rect_ys, w, h, uid = rect\n",
    "    \n",
    "    if rect_xs <= x and rect_ys <= y:\n",
    "        if rect_xs + w >= x and rect_ys + h >= y:\n",
    "            return True\n",
    "        \n",
    "    return False\n",
    "\n",
    "# Check intersection of two rectangles\n",
    "def intersects(lhs, rhs):\n",
    "    lhs_rect_xs, lhs_rect_ys, lhs_w, lhs_h, lhs_uid = lhs\n",
    "    \n",
    "    for x, y in [(lhs_rect_xs, lhs_rect_ys),\n",
    "                 (lhs_rect_xs + lhs_w, lhs_rect_ys),\n",
    "                 (lhs_rect_xs, lhs_rect_ys + lhs_h),\n",
    "                 (lhs_rect_xs + lhs_w, lhs_rect_ys + lhs_h)]:\n",
    "        if contains(rhs, x, y):\n",
    "            return True\n",
    "        \n",
    "    return False    \n",
    "\n",
    "def find_collisions(rects):\n",
    "    collisions = {}\n",
    "\n",
    "    for lhs in rects:\n",
    "        for rhs in rects:\n",
    "            lhs_rect_xs, lhs_rect_ys, lhs_w, lhs_h, lhs_uid = lhs\n",
    "            rhs_rect_xs, rhs_rect_ys, rhs_w, rhs_h, rhs_uid = rhs\n",
    "            \n",
    "            if lhs_uid != rhs_uid and intersects(lhs, rhs):\n",
    "                if lhs_uid not in collisions:\n",
    "                    collisions[lhs_uid] = set()\n",
    "                collisions[lhs_uid].add(rhs_uid)\n",
    "\n",
    "    return collisions"
   ]
  },
  {
   "cell_type": "code",
   "execution_count": 86,
   "metadata": {},
   "outputs": [],
   "source": [
    "def solve(points):\n",
    "    frames = []\n",
    "    for curr_point in points:\n",
    "        frames.append(curr_point.values()) \n",
    "    for i in range(2):\n",
    "        frames = list(chain.from_iterable(frames))\n",
    "    frames_d = {}\n",
    "    for curr_rect in frames:\n",
    "        frames_d[curr_rect[4]] = curr_rect\n",
    "    collisions = find_collisions(frames)\n",
    "    \n",
    "    for curr_point in points:\n",
    "        r_uid = []\n",
    "        iterator = iter(curr_point.values())\n",
    "        for curr_rect in next(iterator):\n",
    "            r_uid.append(curr_rect[4])\n",
    "        s.add_clause(r_uid)\n",
    "        s.add_atmost(r_uid, 1) #ограничение для солвера\n",
    "    for curr_rect in frames:\n",
    "        if curr_rect[4] in collisions:\n",
    "            for case in collisions[curr_rect[4]]:\n",
    "                s.add_clause([-curr_rect[4], -case])\n",
    "    frame_ids = s.get_model()\n",
    "    try:\n",
    "        frame_ids.get_model()\n",
    "        result = []\n",
    "        for frame_id in frame_ids:\n",
    "            if frame_id > 0:\n",
    "                result.append(frames_d[frame_id])\n",
    "        return(result)\n",
    "    except:\n",
    "        print('No solution')\n",
    "    s.delete()\n",
    "    "
   ]
  },
  {
   "cell_type": "code",
   "execution_count": 205,
   "metadata": {},
   "outputs": [],
   "source": [
    "def solve(points):\n",
    "    frames = []\n",
    "    for curr_point in points:\n",
    "        frames.append(curr_point.values()) \n",
    "    for i in range(2):\n",
    "        frames = list(chain.from_iterable(frames))\n",
    "    \n",
    "    \n",
    "    \n",
    "    with Solver(name=\"mc\") as s:\n",
    "        frames_d = {}\n",
    "        for curr_rect in frames:\n",
    "            frames_d[curr_rect[4]] = curr_rect\n",
    "            collisions = find_collisions(frames)\n",
    "#         print(frames_d)\n",
    "#         print(frames_d[1])\n",
    "    \n",
    "        for curr_point in points:\n",
    "            r_uid = []\n",
    "            iterator = iter(curr_point.values())\n",
    "            for curr_rect in next(iterator):\n",
    "                r_uid.append(curr_rect[4])\n",
    "            s.add_clause(r_uid)\n",
    "            s.add_atmost(r_uid, 1) #ограничение для солвера\n",
    "            \n",
    "        for curr_rect in frames:\n",
    "            if curr_rect[4] in collisions:\n",
    "                for case in collisions[curr_rect[4]]:\n",
    "                    s.add_clause([-curr_rect[4], -case])\n",
    "#         try:\n",
    "#             frame_ids= s.get_model()\n",
    "#             result = []\n",
    "#             for frame_id in frame_ids:\n",
    "#                 if frame_id > 0:\n",
    "#                     result.append(frames_d[frame_id])\n",
    "#             return(result)\n",
    "#         except:\n",
    "#                 print('No solution')\n",
    "#                 raise\n",
    "        if s.solve():\n",
    "            result = []\n",
    "            frame_ids = s.get_model()\n",
    "            for frame_id in frame_ids:\n",
    "                if frame_id > 0:\n",
    "#                     print(frames_d)\n",
    "                    result.append(frames_d[frame_id])\n",
    "            return(result)\n",
    "        else:\n",
    "            print('No solution.')\n",
    "            raise\n"
   ]
  },
  {
   "cell_type": "code",
   "execution_count": 207,
   "metadata": {},
   "outputs": [],
   "source": [
    "def do_the_plot(file):\n",
    "    points = reading(file)\n",
    "    labels = solve(points)\n",
    "    fig, ax = plt.subplots()\n",
    "    points_list = []\n",
    "    for curr_point in points:\n",
    "        iterator = iter(curr_point.keys())\n",
    "        item = next(iterator)\n",
    "        points_list.append(item)\n",
    "    \n",
    "    x = []\n",
    "    y = []\n",
    "    rectangles = []\n",
    "    for point in points_list:\n",
    "        x.append(point[0])\n",
    "        y.append(point[1])\n",
    "        \n",
    "    ax.scatter(x, y, color='red')\n",
    "    for i, curr_rect in enumerate(labels):\n",
    "        rectangles.append(patches.Rectangle(xy=(curr_rect[0], curr_rect[1]), width=curr_rect[2], height=curr_rect[3]))\n",
    "    \n",
    "    for rectangle in rectangles:\n",
    "        ax.add_patch(rectangle)\n",
    "    plt.show()    "
   ]
  },
  {
   "cell_type": "code",
   "execution_count": 208,
   "metadata": {},
   "outputs": [],
   "source": [
    "hard1 = \"\"\"111,152\t33,47\t0,0 33,0 0,47 33,47\n",
    "55,142\t35,25\t0,0 35,0 0,25 35,25\n",
    "73,62\t40,21\t0,0 40,0 0,7 40,7 0,14 40,14 0,21 40,21\n",
    "54,193\t10,48\t0,0 10,0 0,48 10,48\n",
    "191,7\t18,47\t0,0 6,0 12,0 18,0 0,47 6,47 12,47 18,47\n",
    "187,135\t29,23\t0,0 29,0 0,23 29,23\n",
    "174,50\t45,22\t0,0 15,0 30,0 45,0 0,22 15,22 30,22 45,22\n",
    "33,31\t34,29\t0,0 34,0 0,29 34,29\n",
    "193,174\t14,14\t0,0 14,0 0,14 14,14\n",
    "155,140\t25,20\t0,0 25,0 0,20 25,20\n",
    "136,92\t20,31\t0,0 20,0 0,31 20,31\n",
    "71,187\t25,29\t0,0 25,0 0,29 25,29\n",
    "104,38\t53,11\t0,0 53,0 0,11 53,11\n",
    "83,41\t14,24\t0,0 14,0 0,24 14,24\n",
    "29,158\t16,41\t0,0 16,0 0,41 16,41\n",
    "7,107\t31,21\t0,0 31,0 0,21 31,21\n",
    "128,5\t15,10\t0,0 15,0 0,10 15,10\n",
    "53,111\t12,20\t0,0 12,0 0,20 12,20\n",
    "22,5\t24,10\t0,0 12,0 24,0 0,10 12,10 24,10\n",
    "167,5\t11,42\t0,0 11,0 0,42 11,42\n",
    "114,125\t10,23\t0,0 10,0 0,23 10,23\n",
    "143,145\t11,45\t0,0 11,0 0,45 11,45\n",
    "57,100\t37,18\t0,0 37,0 0,18 37,18\n",
    "176,99\t12,32\t0,0 12,0 0,32 12,32\n",
    "28,130\t18,12\t0,0 18,0 0,12 18,12\"\"\""
   ]
  },
  {
   "cell_type": "code",
   "execution_count": 209,
   "metadata": {},
   "outputs": [],
   "source": [
    "bin1 = '''33,45\t38,24\t19,0 38,0\n",
    "148,94\t55,47\t0,0 55,0\n",
    "198,30\t50,21\t0,21 50,0\n",
    "75,62\t54,31\t0,0 0,31\n",
    "41,19\t11,24\t0,0 11,0\n",
    "71,143\t29,21\t29,0 29,21\n",
    "149,187\t54,33\t0,0 54,33\n",
    "78,161\t44,38\t22,0 44,0\n",
    "56,117\t30,25\t0,25 30,0\n",
    "188,75\t35,30\t35,10 35,30\n",
    "11,182\t10,18\t0,0 10,18\n",
    "198,174\t17,16\t0,16 17,16\n",
    "53,91\t22,10\t0,0 22,10\n",
    "167,125\t34,22\t17,11 34,22\n",
    "174,5\t41,12\t41,0 41,12\n",
    "185,180\t15,24\t0,8 15,0\n",
    "127,91\t26,24\t0,0 26,24\n",
    "11,116\t12,21\t0,21 4,0\n",
    "26,147\t13,12\t0,12 13,12\n",
    "90,122\t15,20\t0,20 15,0\n",
    "55,75\t15,19\t0,19 15,0\n",
    "94,173\t15,26\t15,0 15,26\n",
    "167,140\t16,22\t0,0 16,0\n",
    "94,13\t14,14\t0,0 14,14'''"
   ]
  },
  {
   "cell_type": "code",
   "execution_count": 210,
   "metadata": {},
   "outputs": [],
   "source": [
    "hard2 = '''134,105\t33,19\t0,0 33,0 0,19 33,19\n",
    "171,60\t13,42\t0,0 13,0 0,42 13,42\n",
    "118,70\t55,44\t0,0 55,0 0,44 55,44\n",
    "26,113\t32,42\t0,0 32,0 0,21 32,21 0,42 32,42\n",
    "161,44\t20,12\t0,0 10,0 20,0 0,4 10,4 20,4 0,8 10,8 20,8 0,12 10,12 20,12\n",
    "42,49\t16,39\t0,0 16,0 0,13 16,13 0,26 16,26 0,39 16,39\n",
    "81,184\t51,23\t0,0 51,0 0,23 51,23\n",
    "180,168\t46,11\t0,0 23,0 46,0 0,11 23,11 46,11\n",
    "164,199\t17,18\t0,0 17,0 0,18 17,18\n",
    "163,39\t27,29\t0,0 27,0 0,29 27,29\n",
    "58,11\t29,28\t0,0 29,0 0,28 29,28\n",
    "106,190\t36,49\t0,0 36,0 0,49 36,49\n",
    "197,118\t18,28\t0,0 18,0 0,28 18,28\n",
    "92,115\t20,27\t0,0 20,0 0,27 20,27\n",
    "134,100\t14,10\t0,0 14,0 0,10 14,10\n",
    "54,186\t38,12\t0,0 38,0 0,12 38,12\n",
    "201,41\t10,46\t0,0 10,0 0,23 10,23 0,46 10,46\n",
    "12,92\t22,23\t0,0 22,0 0,23 22,23\n",
    "88,155\t12,27\t0,0 4,0 8,0 12,0 0,27 4,27 8,27 12,27\n",
    "175,158\t27,25\t0,0 27,0 0,25 27,25\n",
    "199,133\t20,32\t0,0 20,0 0,32 20,32\n",
    "91,186\t23,13\t0,0 23,0 0,13 23,13\n",
    "135,75\t21,28\t0,0 21,0 0,28 21,28'''"
   ]
  },
  {
   "cell_type": "code",
   "execution_count": 211,
   "metadata": {},
   "outputs": [
    {
     "data": {
      "image/png": "[encoded data removed]",
      "text/plain": [
       "<Figure size 432x288 with 1 Axes>"
      ]
     },
     "metadata": {
      "needs_background": "light"
     },
     "output_type": "display_data"
    }
   ],
   "source": [
    "do_the_plot(hard1)"
   ]
  },
  {
   "cell_type": "code",
   "execution_count": 213,
   "metadata": {},
   "outputs": [
    {
     "data": {
      "image/png": "[encoded data removed]",
      "text/plain": [
       "<Figure size 432x288 with 1 Axes>"
      ]
     },
     "metadata": {
      "needs_background": "light"
     },
     "output_type": "display_data"
    }
   ],
   "source": [
    "do_the_plot(hard2)"
   ]
  },
  {
   "cell_type": "code",
   "execution_count": 214,
   "metadata": {},
   "outputs": [
    {
     "data": {
      "image/png": "[encoded data removed]",
      "text/plain": [
       "<Figure size 432x288 with 1 Axes>"
      ]
     },
     "metadata": {
      "needs_background": "light"
     },
     "output_type": "display_data"
    }
   ],
   "source": [
    "do_the_plot(bin1)"
   ]
  },
  {
   "cell_type": "code",
   "execution_count": null,
   "metadata": {},
   "outputs": [],
   "source": []
  }
 ],
 "metadata": {
  "kernelspec": {
   "display_name": "Python 3",
   "language": "python",
   "name": "python3"
  },
  "language_info": {
   "codemirror_mode": {
    "name": "ipython",
    "version": 3
   },
   "file_extension": ".py",
   "mimetype": "text/x-python",
   "name": "python",
   "nbconvert_exporter": "python",
   "pygments_lexer": "ipython3",
   "version": "3.6.9"
  }
 },
 "nbformat": 4,
 "nbformat_minor": 2
}
